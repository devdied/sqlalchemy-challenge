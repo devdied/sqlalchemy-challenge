{
 "cells": [
  {
   "cell_type": "code",
   "execution_count": 3,
   "id": "d922cb83-6785-4a11-a321-ca1adcad7077",
   "metadata": {},
   "outputs": [],
   "source": [
    "# Import the dependencies.\n",
    "import numpy as np\n",
    "\n",
    "import sqlalchemy\n",
    "from sqlalchemy.ext.automap import automap_base\n",
    "from sqlalchemy.orm import Session\n",
    "from sqlalchemy import create_engine, func\n",
    "\n",
    "from flask import Flask, jsonify\n"
   ]
  },
  {
   "cell_type": "markdown",
   "id": "397fe23d-50db-4827-ba6c-41ac4c32dcfc",
   "metadata": {},
   "source": [
    "#################################################\n",
    "# Database Setup\n",
    "#################################################"
   ]
  },
  {
   "cell_type": "code",
   "execution_count": null,
   "id": "e4529cb9-9d39-4b08-a8b4-c08d9f00213f",
   "metadata": {},
   "outputs": [],
   "source": [
    "engine = create_engine(\"sqlite:///Resources/hawaii.sqlite\")\n",
    "# reflect an existing database into a new model\n",
    "Base = automap_base()\n",
    "# reflect the tables\n",
    "Base.prepare(autoload_with=engine)\n",
    "\n",
    "# Save reference to the table\n",
    "M = Base.classes.measurement\n",
    "S = Base.classes.station\n",
    "\n",
    "\n",
    "# Create our session (link) from Python to the DB\n",
    "session = Session(engine)"
   ]
  },
  {
   "cell_type": "markdown",
   "id": "d27281ef-f884-4dd4-a281-c2f0ec088144",
   "metadata": {},
   "source": [
    "#################################################\n",
    "# Flask Setup\n",
    "#################################################"
   ]
  },
  {
   "cell_type": "code",
   "execution_count": null,
   "id": "823a5461-65ce-42b4-9943-c48b31f27d64",
   "metadata": {},
   "outputs": [],
   "source": [
    "app = Flask(__name__)"
   ]
  },
  {
   "cell_type": "markdown",
   "id": "d21ba316-2b04-4129-aab3-9dcb61cac8b5",
   "metadata": {},
   "source": [
    "#################################################\n",
    "# Flask Routes\n",
    "#################################################"
   ]
  },
  {
   "cell_type": "code",
   "execution_count": null,
   "id": "386ae28e-008b-453a-9673-733b7161a994",
   "metadata": {},
   "outputs": [],
   "source": [
    "\n",
    "\n",
    "@app.route(\"/\")\n",
    "def welcome():\n",
    "    \"\"\"List all available api routes.\"\"\"\n",
    "    return (\n",
    "        f\"Available Routes:<br/>\"\n",
    "        f\"/api/v1.0/precipitation<br/>\"\n",
    "        f\"/api/v1.0/stations<br/>\"\n",
    "        f\"/api/v1.0/tobs<br/>\"\n",
    "        f\"/api/v1.0/<start>: TMIN, TAVG, TMAX for all dates greater than or equal to the start date<br/>\"\n",
    "        f\"/api/v1.0/<start>/<end>: TMIN, TAVG, TMAX for all dates from the start date to the end date, inclusive<br/>\"\n",
    "    )\n",
    "\n",
    "\n",
    "@app.route(\"/api/v1.0/precipitation\")\n",
    "def precipitation():\n",
    "    # Create our session (link) from Python to the DB\n",
    "    session = Session(engine)\n",
    "\n",
    "    # Design a query to retrieve the last 12 months of precipitation data and plot the results. \n",
    "    # Starting from the most recent data point in the database.\n",
    "    last_date = session.query(M.date).order_by(M.date.desc()).first().date\n",
    "    query_date = dt.datetime.strptime(last_date, '%Y-%m-%d') -dt.timedelta(days=365)\n",
    "\n",
    "    # Perform a query to retrieve the data and precipitation scores\n",
    "    prcp_data = session.query(M.date, M.prcp).filter(M.date >= query_date).filter(M.prcp != 'None').order_by(M.date).all()\n",
    "\n",
    "    session.close()\n",
    "\n",
    "    # Convert list of tuples into normal list\n",
    "    prcp_data = list(np.ravel(prcp_data))\n",
    "\n",
    "    return jsonify(prcp_data)\n",
    "\n",
    "\n",
    "# @app.route(\"/api/v1.0/passengers\")\n",
    "# def passengers():\n",
    "#     # Create our session (link) from Python to the DB\n",
    "#     session = Session(engine)\n",
    "\n",
    "#     \"\"\"Return a list of passenger data including the name, age, and sex of each passenger\"\"\"\n",
    "#     # Query all passengers\n",
    "#     results = session.query(Passenger.name, Passenger.age, Passenger.sex).all()\n",
    "\n",
    "#     session.close()\n",
    "\n",
    "#     # Create a dictionary from the row data and append to a list of all_passengers\n",
    "#     all_passengers = []\n",
    "#     for name, age, sex in results:\n",
    "#         passenger_dict = {}\n",
    "#         passenger_dict[\"name\"] = name\n",
    "#         passenger_dict[\"age\"] = age\n",
    "#         passenger_dict[\"sex\"] = sex\n",
    "#         all_passengers.append(passenger_dict)\n",
    "\n",
    "#     return jsonify(all_passengers)\n",
    "\n",
    "\n",
    "# if __name__ == '__main__':\n",
    "#     app.run(debug=True)\n",
    "\n"
   ]
  }
 ],
 "metadata": {
  "kernelspec": {
   "display_name": "Python 3 (ipykernel)",
   "language": "python",
   "name": "python3"
  },
  "language_info": {
   "codemirror_mode": {
    "name": "ipython",
    "version": 3
   },
   "file_extension": ".py",
   "mimetype": "text/x-python",
   "name": "python",
   "nbconvert_exporter": "python",
   "pygments_lexer": "ipython3",
   "version": "3.10.9"
  }
 },
 "nbformat": 4,
 "nbformat_minor": 5
}
